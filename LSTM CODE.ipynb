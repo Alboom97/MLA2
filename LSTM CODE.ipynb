{
  "metadata": {
    "kernelspec": {
      "language": "python",
      "display_name": "Python 3",
      "name": "python3"
    },
    "language_info": {
      "name": "python",
      "version": "3.7.12",
      "mimetype": "text/x-python",
      "codemirror_mode": {
        "name": "ipython",
        "version": 3
      },
      "pygments_lexer": "ipython3",
      "nbconvert_exporter": "python",
      "file_extension": ".py"
    },
    "colab": {
      "provenance": []
    },
    "accelerator": "GPU"
  },
  "nbformat_minor": 0,
  "nbformat": 4,
  "cells": [
    {
      "cell_type": "markdown",
      "source": [
        "# 1. Download and Imports"
      ],
      "metadata": {
        "id": "gtieW2BdMA4t"
      }
    },
    {
      "cell_type": "code",
      "source": [
        "!pip install contractions\n",
        "!pip install textsearch\n",
        "!pip install tqdm\n",
        "import nltk\n",
        "nltk.download('punkt')"
      ],
      "metadata": {
        "execution": {
          "iopub.status.busy": "2022-05-17T08:16:35.532352Z",
          "iopub.execute_input": "2022-05-17T08:16:35.533138Z",
          "iopub.status.idle": "2022-05-17T08:17:06.706465Z",
          "shell.execute_reply.started": "2022-05-17T08:16:35.533041Z",
          "shell.execute_reply": "2022-05-17T08:17:06.705715Z"
        },
        "trusted": true,
        "id": "c0TGZjVfMA41"
      },
      "execution_count": null,
      "outputs": []
    },
    {
      "cell_type": "code",
      "source": [
        "#Tensorflow and Keras and sklearn\n",
        "import tensorflow as tf\n",
        "import pandas as pd\n",
        "import numpy as np\n",
        "from tensorflow.keras.models import Sequential\n",
        "from tensorflow.keras.layers import Dense\n",
        "from tensorflow.keras.layers import Dropout\n",
        "from tensorflow.keras.layers import Flatten\n",
        "from tensorflow.keras.layers import Conv1D\n",
        "from tensorflow.keras.layers import MaxPooling1D\n",
        "from tensorflow.keras.layers import Embedding\n",
        "from tensorflow.keras.layers import LSTM\n",
        "from tensorflow.keras.preprocessing.text import Tokenizer\n",
        "from tensorflow.keras.preprocessing import sequence\n",
        "from sklearn.preprocessing import LabelEncoder\n",
        "\n",
        "#Charts\n",
        "from sklearn import metrics\n",
        "from sklearn.metrics import f1_score, accuracy_score,confusion_matrix,classification_report\n",
        "import matplotlib.pyplot as plt\n",
        "import seaborn as sns\n",
        "\n",
        "# Time\n",
        "import time\n",
        "import datetime\n",
        "\n",
        "#Performance Plot\n",
        "import contractions\n",
        "from bs4 import BeautifulSoup\n",
        "import numpy as np\n",
        "import re\n",
        "import tqdm\n",
        "import unicodedata\n",
        "\n",
        "%matplotlib inline\n",
        "\n",
        "# fix random seed for reproducibility\n",
        "seed = 3541\n",
        "np.random.seed(seed)"
      ],
      "metadata": {
        "execution": {
          "iopub.status.busy": "2022-05-17T08:17:06.708276Z",
          "iopub.execute_input": "2022-05-17T08:17:06.70896Z",
          "iopub.status.idle": "2022-05-17T08:17:12.304423Z",
          "shell.execute_reply.started": "2022-05-17T08:17:06.708918Z",
          "shell.execute_reply": "2022-05-17T08:17:12.30345Z"
        },
        "trusted": true,
        "id": "Ts7ohQU5MA48"
      },
      "execution_count": null,
      "outputs": []
    },
    {
      "cell_type": "markdown",
      "source": [
        "# 2. Functions"
      ],
      "metadata": {
        "id": "83ndZKBSMA5G"
      }
    },
    {
      "cell_type": "code",
      "source": [
        "import matplotlib.pyplot as plt\n",
        "\n",
        "\n",
        "def plot_graphs(history, metric):\n",
        "    plt.plot(history.history[metric])\n",
        "    plt.plot(history.history['val_'+metric], '')\n",
        "    plt.xlabel(\"Epochs\")\n",
        "    plt.ylabel(metric)\n",
        "    plt.legend([metric, 'val_'+metric])\n"
      ],
      "metadata": {
        "execution": {
          "iopub.status.busy": "2022-05-17T08:17:12.309417Z",
          "iopub.execute_input": "2022-05-17T08:17:12.309834Z",
          "iopub.status.idle": "2022-05-17T08:17:12.320344Z",
          "shell.execute_reply.started": "2022-05-17T08:17:12.309795Z",
          "shell.execute_reply": "2022-05-17T08:17:12.319578Z"
        },
        "trusted": true,
        "id": "BCsIn7ZJMA5L"
      },
      "execution_count": null,
      "outputs": []
    },
    {
      "cell_type": "code",
      "source": [
        "# date_time function\n",
        "\n",
        "def date_time(x):\n",
        "    if x==1:\n",
        "        return 'Timestamp: {:%Y-%m-%d %H:%M:%S}'.format(datetime.datetime.now())\n",
        "    if x==2:\n",
        "        return 'Timestamp: {:%Y-%b-%d %H:%M:%S}'.format(datetime.datetime.now())\n",
        "    if x==3:\n",
        "        return 'Date now: %s' % datetime.datetime.now()\n",
        "    if x==4:\n",
        "        return 'Date today: %s' % datetime.date.today()"
      ],
      "metadata": {
        "execution": {
          "iopub.status.busy": "2022-05-17T08:17:12.326756Z",
          "iopub.execute_input": "2022-05-17T08:17:12.328789Z",
          "iopub.status.idle": "2022-05-17T08:17:12.337854Z",
          "shell.execute_reply.started": "2022-05-17T08:17:12.328751Z",
          "shell.execute_reply": "2022-05-17T08:17:12.336935Z"
        },
        "trusted": true,
        "id": "XixEJolaMA5Q"
      },
      "execution_count": null,
      "outputs": []
    },
    {
      "cell_type": "code",
      "source": [
        "# Performance Plot\n",
        "\n",
        "def plot_performance(history=None, figure_directory=None, ylim_pad=[0, 0]):\n",
        "    xlabel = 'Epoch'\n",
        "    legends = ['Training', 'Validation']\n",
        "\n",
        "    plt.figure(figsize=(20, 5))\n",
        "\n",
        "    y1 = history.history['accuracy']\n",
        "    y2 = history.history['val_accuracy']\n",
        "\n",
        "    min_y = min(min(y1), min(y2))-ylim_pad[0]\n",
        "    max_y = max(max(y1), max(y2))+ylim_pad[0]\n",
        "\n",
        "\n",
        "    plt.subplot(121)\n",
        "\n",
        "    plt.plot(y1)\n",
        "    plt.plot(y2)\n",
        "\n",
        "    plt.title('Model Accuracy\\n'+date_time(1), fontsize=17)\n",
        "    plt.xlabel(xlabel, fontsize=15)\n",
        "    plt.ylabel('Accuracy', fontsize=15)\n",
        "    plt.ylim(min_y, max_y)\n",
        "    plt.legend(legends, loc='upper left')\n",
        "    plt.grid()\n",
        "\n",
        "    y1 = history.history['loss']\n",
        "    y2 = history.history['val_loss']\n",
        "\n",
        "    min_y = min(min(y1), min(y2))-ylim_pad[1]\n",
        "    max_y = max(max(y1), max(y2))+ylim_pad[1]\n",
        "\n",
        "\n",
        "    plt.subplot(122)\n",
        "\n",
        "    plt.plot(y1)\n",
        "    plt.plot(y2)\n",
        "\n",
        "    plt.title('Model Loss\\n'+date_time(1), fontsize=17)\n",
        "    plt.xlabel(xlabel, fontsize=15)\n",
        "    plt.ylabel('Loss', fontsize=15)\n",
        "    plt.ylim(min_y, max_y)\n",
        "    plt.legend(legends, loc='upper left')\n",
        "    plt.grid()\n",
        "    if figure_directory:\n",
        "        plt.savefig(figure_directory+\"/history\")\n",
        "\n",
        "    plt.show()"
      ],
      "metadata": {
        "execution": {
          "iopub.status.busy": "2022-05-17T08:17:12.343069Z",
          "iopub.execute_input": "2022-05-17T08:17:12.345767Z",
          "iopub.status.idle": "2022-05-17T08:17:12.364447Z",
          "shell.execute_reply.started": "2022-05-17T08:17:12.345677Z",
          "shell.execute_reply": "2022-05-17T08:17:12.363641Z"
        },
        "trusted": true,
        "id": "BVT6ydPqMA5T"
      },
      "execution_count": null,
      "outputs": []
    },
    {
      "cell_type": "code",
      "source": [
        "# Pre-Processing Function\n",
        "\n",
        "def strip_html_tags(text):\n",
        "    soup = BeautifulSoup(text, \"html.parser\")\n",
        "    [s.extract() for s in soup(['iframe', 'script'])]\n",
        "    stripped_text = soup.get_text()\n",
        "    stripped_text = re.sub(r'[\\r|\\n|\\r\\n]+', '\\n', stripped_text)\n",
        "    return stripped_text\n",
        "\n",
        "def remove_accented_chars(text):\n",
        "    text = unicodedata.normalize('NFKD', text).encode('ascii', 'ignore').decode('utf-8', 'ignore')\n",
        "    return text\n",
        "\n",
        "def pre_process_corpus(docs):\n",
        "    norm_docs = []\n",
        "    for doc in tqdm.tqdm(docs):\n",
        "        doc = strip_html_tags(doc)\n",
        "        doc = doc.translate(doc.maketrans(\"\\n\\t\\r\", \"   \"))\n",
        "        doc = doc.lower()\n",
        "        doc = remove_accented_chars(doc)\n",
        "        doc = contractions.fix(doc)\n",
        "        # lower case and remove special characters\\whitespaces\n",
        "        doc = re.sub(r'[^a-zA-Z0-9\\s]', '', doc, re.I|re.A)\n",
        "        doc = re.sub(' +', ' ', doc)\n",
        "        doc = doc.strip()\n",
        "        norm_docs.append(doc)\n",
        "\n",
        "    return norm_docs"
      ],
      "metadata": {
        "execution": {
          "iopub.status.busy": "2022-05-17T08:17:12.369208Z",
          "iopub.execute_input": "2022-05-17T08:17:12.371798Z",
          "iopub.status.idle": "2022-05-17T08:17:12.38592Z",
          "shell.execute_reply.started": "2022-05-17T08:17:12.371761Z",
          "shell.execute_reply": "2022-05-17T08:17:12.385287Z"
        },
        "trusted": true,
        "id": "3nRzRIEuMA5W"
      },
      "execution_count": null,
      "outputs": []
    },
    {
      "cell_type": "markdown",
      "source": [
        "# 3. Loading Dataset (Amazon Reviews)"
      ],
      "metadata": {
        "id": "JOGhi8KrMA5Z"
      }
    },
    {
      "cell_type": "code",
      "source": [
        "dataset_train = pd.read_csv('train.csv')\n",
        "dataset_test = pd.read_csv('test.csv')"
      ],
      "metadata": {
        "execution": {
          "iopub.status.busy": "2022-05-17T08:17:12.389993Z",
          "iopub.execute_input": "2022-05-17T08:17:12.39323Z",
          "iopub.status.idle": "2022-05-17T08:17:48.94911Z",
          "shell.execute_reply.started": "2022-05-17T08:17:12.393135Z",
          "shell.execute_reply": "2022-05-17T08:17:48.94828Z"
        },
        "trusted": true,
        "id": "CIdlUuEmMA5d"
      },
      "execution_count": null,
      "outputs": []
    },
    {
      "cell_type": "markdown",
      "source": [
        "# 4. Shuffeling and splitting the Data"
      ],
      "metadata": {
        "id": "g9_lIwwWMA5g"
      }
    },
    {
      "cell_type": "code",
      "source": [
        "# Shuffling Data\n",
        "\n",
        "train = dataset_train.sample(frac=1)\n",
        "test = dataset_test.sample(frac=1)\n",
        "\n",
        "# Taking only a small peice of the dataset to avoid long training time\n",
        "\n",
        "test = dataset_test.iloc[:50000,:]\n",
        "train = dataset_train.iloc[50000:,:]\n",
        "val = dataset_train.iloc[:50000,:]\n",
        "train = dataset_train.iloc[50000:,:]\n",
        "train = dataset_train.iloc[:100000,:]\n",
        "\n",
        "# Splitting data to train and validation sets manually, only including neccessary columns\n",
        "\n",
        "X_train = train['review_text'].values\n",
        "y_train = train['class_index'].values\n",
        "\n",
        "X_val = val['review_text'].values\n",
        "y_val = val['class_index'].values\n",
        "\n",
        "X_test = test['review_text'].values\n",
        "y_test = test['class_index'].values"
      ],
      "metadata": {
        "execution": {
          "iopub.status.busy": "2022-05-17T08:17:48.95031Z",
          "iopub.execute_input": "2022-05-17T08:17:48.952195Z",
          "iopub.status.idle": "2022-05-17T08:17:51.060176Z",
          "shell.execute_reply.started": "2022-05-17T08:17:48.95216Z",
          "shell.execute_reply": "2022-05-17T08:17:51.05931Z"
        },
        "trusted": true,
        "id": "FliRtt4HMA5i"
      },
      "execution_count": null,
      "outputs": []
    },
    {
      "cell_type": "markdown",
      "source": [
        "# 5. reprocessing and Tokenization"
      ],
      "metadata": {
        "id": "bRf8-iuSMA5l"
      }
    },
    {
      "cell_type": "code",
      "source": [
        "%%time\n",
        "#Pre-processing the Data (the Reviews)\n",
        "\n",
        "X_train = pre_process_corpus(X_train)\n",
        "X_val = pre_process_corpus(X_val)\n",
        "X_test = pre_process_corpus(X_test)"
      ],
      "metadata": {
        "execution": {
          "iopub.status.busy": "2022-05-17T08:17:51.061588Z",
          "iopub.execute_input": "2022-05-17T08:17:51.061858Z",
          "iopub.status.idle": "2022-05-17T08:18:31.419832Z",
          "shell.execute_reply.started": "2022-05-17T08:17:51.061821Z",
          "shell.execute_reply": "2022-05-17T08:18:31.419118Z"
        },
        "trusted": true,
        "id": "pv74td8aMA5n"
      },
      "execution_count": null,
      "outputs": []
    },
    {
      "cell_type": "code",
      "source": [
        "# Tokenazing the Data (the Reviews)\n",
        "\n",
        "t = Tokenizer(oov_token='<UNK>')\n",
        "# fit the tokenizer on train documents\n",
        "t.fit_on_texts(X_train)\n",
        "t.word_index['<PAD>'] = 0"
      ],
      "metadata": {
        "execution": {
          "iopub.status.busy": "2022-05-17T08:18:31.42273Z",
          "iopub.execute_input": "2022-05-17T08:18:31.42295Z",
          "iopub.status.idle": "2022-05-17T08:18:37.222251Z",
          "shell.execute_reply.started": "2022-05-17T08:18:31.422921Z",
          "shell.execute_reply": "2022-05-17T08:18:37.221476Z"
        },
        "trusted": true,
        "id": "Bwk0w86mMA5o"
      },
      "execution_count": null,
      "outputs": []
    },
    {
      "cell_type": "code",
      "source": [
        "# Transforming Reviews to Sequences\n",
        "\n",
        "X_train = t.texts_to_sequences(X_train)\n",
        "X_test = t.texts_to_sequences(X_test)\n",
        "X_val = t.texts_to_sequences(X_val)"
      ],
      "metadata": {
        "execution": {
          "iopub.status.busy": "2022-05-17T08:18:37.223488Z",
          "iopub.execute_input": "2022-05-17T08:18:37.223734Z",
          "iopub.status.idle": "2022-05-17T08:18:45.854497Z",
          "shell.execute_reply.started": "2022-05-17T08:18:37.223702Z",
          "shell.execute_reply": "2022-05-17T08:18:45.853734Z"
        },
        "trusted": true,
        "id": "iBpDSAycMA5p"
      },
      "execution_count": null,
      "outputs": []
    },
    {
      "cell_type": "markdown",
      "source": [
        "# 6. Dataset Visualization"
      ],
      "metadata": {
        "id": "rgd_AAO5MA5q"
      }
    },
    {
      "cell_type": "code",
      "source": [
        "# Calculating the Vocabulary Size and the number of Reviews\n",
        "\n",
        "print(\"Vocabulary size={}\".format(len(t.word_index)))\n",
        "print(\"Number of Reviews={}\".format(t.document_count))"
      ],
      "metadata": {
        "execution": {
          "iopub.status.busy": "2022-05-17T08:18:45.855787Z",
          "iopub.execute_input": "2022-05-17T08:18:45.856046Z",
          "iopub.status.idle": "2022-05-17T08:18:45.863269Z",
          "shell.execute_reply.started": "2022-05-17T08:18:45.856013Z",
          "shell.execute_reply": "2022-05-17T08:18:45.862577Z"
        },
        "trusted": true,
        "id": "OL2R8uNeMA5r"
      },
      "execution_count": null,
      "outputs": []
    },
    {
      "cell_type": "code",
      "source": [
        "# Plotting the size of the sequences\n",
        "\n",
        "import matplotlib.pyplot as plt\n",
        "%matplotlib inline\n",
        "\n",
        "train_lens = [len(s) for s in X_train]\n",
        "test_lens = [len(s) for s in X_test]\n",
        "\n",
        "fig, ax = plt.subplots(1,2, figsize=(12, 6))\n",
        "h1 = ax[0].hist(train_lens)\n",
        "h2 = ax[1].hist(test_lens)"
      ],
      "metadata": {
        "execution": {
          "iopub.status.busy": "2022-05-17T08:18:45.864568Z",
          "iopub.execute_input": "2022-05-17T08:18:45.866267Z",
          "iopub.status.idle": "2022-05-17T08:18:46.768344Z",
          "shell.execute_reply.started": "2022-05-17T08:18:45.866221Z",
          "shell.execute_reply": "2022-05-17T08:18:46.767658Z"
        },
        "trusted": true,
        "id": "d_dwFHl4MA5s"
      },
      "execution_count": null,
      "outputs": []
    },
    {
      "cell_type": "markdown",
      "source": [
        "# 7. Sequence Normalization and Encoding Labels"
      ],
      "metadata": {
        "id": "KPW40XdSMA5w"
      }
    },
    {
      "cell_type": "code",
      "source": [
        "# Padding the dataset to a maximum review length in words\n",
        "\n",
        "X_train = sequence.pad_sequences(X_train, maxlen=200)\n",
        "X_test = sequence.pad_sequences(X_test, maxlen=200)\n",
        "X_val = sequence.pad_sequences(X_val, maxlen=200)"
      ],
      "metadata": {
        "execution": {
          "iopub.status.busy": "2022-05-17T08:18:46.769432Z",
          "iopub.execute_input": "2022-05-17T08:18:46.771049Z",
          "iopub.status.idle": "2022-05-17T08:18:48.693919Z",
          "shell.execute_reply.started": "2022-05-17T08:18:46.771006Z",
          "shell.execute_reply": "2022-05-17T08:18:48.692968Z"
        },
        "trusted": true,
        "id": "48TNZ4NSMA5y"
      },
      "execution_count": null,
      "outputs": []
    },
    {
      "cell_type": "code",
      "source": [
        "# Encoding Labels\n",
        "\n",
        "le = LabelEncoder()\n",
        "num_classes=2 # positive -> 1, negative -> 0\n",
        "\n",
        "y_train = le.fit_transform(y_train)\n",
        "y_test = le.transform(y_test)\n",
        "y_val = le.transform(y_val)"
      ],
      "metadata": {
        "execution": {
          "iopub.status.busy": "2022-05-17T08:18:48.695848Z",
          "iopub.execute_input": "2022-05-17T08:18:48.696377Z",
          "iopub.status.idle": "2022-05-17T08:18:48.715689Z",
          "shell.execute_reply.started": "2022-05-17T08:18:48.696338Z",
          "shell.execute_reply": "2022-05-17T08:18:48.714945Z"
        },
        "trusted": true,
        "id": "ucFD8LuAMA50"
      },
      "execution_count": null,
      "outputs": []
    },
    {
      "cell_type": "markdown",
      "source": [
        "# 8. Model Preparation and Training"
      ],
      "metadata": {
        "id": "l-nwMGmJMA51"
      }
    },
    {
      "cell_type": "code",
      "source": [
        "# Hyperparameters of the model\n",
        "\n",
        "EMBEDDING_DIM = 300\n",
        "MAX_SEQUENCE_LENGTH = 200\n",
        "VOCAB_SIZE = len(t.word_index)"
      ],
      "metadata": {
        "execution": {
          "iopub.status.busy": "2022-05-17T08:18:48.717334Z",
          "iopub.execute_input": "2022-05-17T08:18:48.71788Z",
          "iopub.status.idle": "2022-05-17T08:18:48.72621Z",
          "shell.execute_reply.started": "2022-05-17T08:18:48.717838Z",
          "shell.execute_reply": "2022-05-17T08:18:48.724922Z"
        },
        "trusted": true,
        "id": "whbqwIPFMA53"
      },
      "execution_count": null,
      "outputs": []
    },
    {
      "cell_type": "code",
      "source": [
        "# model initialization\n",
        "model = Sequential()\n",
        "\n",
        "# The Embedding Layer\n",
        "model.add(Embedding(VOCAB_SIZE, EMBEDDING_DIM, input_length=MAX_SEQUENCE_LENGTH))\n",
        "\n",
        "# The LSTM layer (64)\n",
        "model.add(LSTM(64))\n",
        "\n",
        "# The first DEnse layer (24,relu)\n",
        "model.add(Dense(24, activation='relu'))\n",
        "\n",
        "# The first DEnse layer (24,relu)\n",
        "model.add(Dense(1, activation='sigmoid'))\n",
        "\n",
        "# compile model\n",
        "model.compile(loss='BinaryCrossentropy',\n",
        "              optimizer=tf.keras.optimizers.Adam(1e-4),\n",
        "              metrics=['accuracy'])\n",
        "\n",
        "# model summary\n",
        "model.summary()"
      ],
      "metadata": {
        "execution": {
          "iopub.status.busy": "2022-05-17T08:20:20.84079Z",
          "iopub.execute_input": "2022-05-17T08:20:20.841097Z",
          "iopub.status.idle": "2022-05-17T08:20:21.066768Z",
          "shell.execute_reply.started": "2022-05-17T08:20:20.841065Z",
          "shell.execute_reply": "2022-05-17T08:20:21.065955Z"
        },
        "trusted": true,
        "id": "O1kMZ0eZMA53"
      },
      "execution_count": null,
      "outputs": []
    },
    {
      "cell_type": "code",
      "source": [
        "# Training the Model with GPU\n",
        "with tf.device('/GPU:0'):\n",
        "    history1 = model.fit(X_train, y_train,validation_data=(X_val,y_val), epochs=10, validation_steps=30, verbose=1)"
      ],
      "metadata": {
        "execution": {
          "iopub.status.busy": "2022-05-17T08:20:26.21099Z",
          "iopub.execute_input": "2022-05-17T08:20:26.211573Z",
          "iopub.status.idle": "2022-05-17T08:32:03.021172Z",
          "shell.execute_reply.started": "2022-05-17T08:20:26.211534Z",
          "shell.execute_reply": "2022-05-17T08:32:03.020432Z"
        },
        "trusted": true,
        "id": "OKqt1VJtMA55"
      },
      "execution_count": null,
      "outputs": []
    },
    {
      "cell_type": "markdown",
      "source": [
        "# 9. Visualizing and Evaluating the Results"
      ],
      "metadata": {
        "id": "OBWifZL1MA56"
      }
    },
    {
      "cell_type": "code",
      "source": [
        "#Accuracy / Validation_Accuracy  and Loss / Validation_Loss Plot\n",
        "\n",
        "plot_performance(history=history1)"
      ],
      "metadata": {
        "execution": {
          "iopub.status.busy": "2022-05-17T08:33:16.540347Z",
          "iopub.execute_input": "2022-05-17T08:33:16.540634Z",
          "iopub.status.idle": "2022-05-17T08:33:16.874082Z",
          "shell.execute_reply.started": "2022-05-17T08:33:16.540595Z",
          "shell.execute_reply": "2022-05-17T08:33:16.873395Z"
        },
        "trusted": true,
        "id": "PMyPHBIqMA56"
      },
      "execution_count": null,
      "outputs": []
    },
    {
      "cell_type": "code",
      "source": [
        "# Final evaluation of the model\n",
        "\n",
        "scores = model.evaluate(X_test, y_test, verbose=1)\n",
        "print(\"Accuracy: %.2f%%\" % (scores[1]*100))"
      ],
      "metadata": {
        "execution": {
          "iopub.status.busy": "2022-05-17T08:33:22.540943Z",
          "iopub.execute_input": "2022-05-17T08:33:22.541213Z",
          "iopub.status.idle": "2022-05-17T08:33:29.790011Z",
          "shell.execute_reply.started": "2022-05-17T08:33:22.541185Z",
          "shell.execute_reply": "2022-05-17T08:33:29.789082Z"
        },
        "trusted": true,
        "id": "23YYvdd5MA57"
      },
      "execution_count": null,
      "outputs": []
    }
  ]
}