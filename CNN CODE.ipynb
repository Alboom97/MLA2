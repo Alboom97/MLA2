{
  "metadata": {
    "kernelspec": {
      "language": "python",
      "display_name": "Python 3",
      "name": "python3"
    },
    "language_info": {
      "name": "python",
      "version": "3.7.12",
      "mimetype": "text/x-python",
      "codemirror_mode": {
        "name": "ipython",
        "version": 3
      },
      "pygments_lexer": "ipython3",
      "nbconvert_exporter": "python",
      "file_extension": ".py"
    },
    "kaggle": {
      "accelerator": "gpu",
      "dataSources": [
        {
          "sourceId": 5339021,
          "sourceType": "datasetVersion",
          "datasetId": 2078011
        }
      ],
      "dockerImageVersionId": 30185,
      "isInternetEnabled": true,
      "language": "python",
      "sourceType": "notebook",
      "isGpuEnabled": true
    },
    "colab": {
      "name": "🛒 Binary Classification Amazon Reviews 86% [CNN]",
      "provenance": []
    }
  },
  "nbformat_minor": 0,
  "nbformat": 4,
  "cells": [
    {
      "cell_type": "markdown",
      "source": [
        "# 1. Download and Imports"
      ],
      "metadata": {
        "id": "lo9SDRtKO_no"
      }
    },
    {
      "cell_type": "code",
      "source": [
        "!pip install contractions\n",
        "!pip install textsearch\n",
        "!pip install tqdm\n",
        "import nltk\n",
        "nltk.download('punkt')"
      ],
      "metadata": {
        "id": "iayiP3GZrjjk",
        "execution": {
          "iopub.status.busy": "2024-06-12T12:25:18.996887Z",
          "iopub.execute_input": "2024-06-12T12:25:18.99722Z",
          "iopub.status.idle": "2024-06-12T12:25:51.4331Z",
          "shell.execute_reply.started": "2024-06-12T12:25:18.997183Z",
          "shell.execute_reply": "2024-06-12T12:25:51.432254Z"
        },
        "trusted": true
      },
      "execution_count": null,
      "outputs": []
    },
    {
      "cell_type": "code",
      "source": [
        "import tensorflow as tf\n",
        "print(tf. __version__)"
      ],
      "metadata": {
        "execution": {
          "iopub.status.busy": "2024-06-12T12:25:51.435126Z",
          "iopub.execute_input": "2024-06-12T12:25:51.435379Z",
          "iopub.status.idle": "2024-06-12T12:25:51.440274Z",
          "shell.execute_reply.started": "2024-06-12T12:25:51.43535Z",
          "shell.execute_reply": "2024-06-12T12:25:51.439546Z"
        },
        "trusted": true,
        "id": "RaHtHcZMO_np"
      },
      "execution_count": null,
      "outputs": []
    },
    {
      "cell_type": "code",
      "source": [
        "import tensorflow as tf\n",
        "import pandas as pd\n",
        "import numpy as np\n",
        "from tensorflow.keras.models import Sequential\n",
        "from tensorflow.keras.layers import Dense\n",
        "from tensorflow.keras.layers import Dropout\n",
        "from tensorflow.keras.layers import Flatten\n",
        "from tensorflow.keras.layers import Conv1D\n",
        "from tensorflow.keras.layers import MaxPooling1D\n",
        "from tensorflow.keras.layers import Embedding\n",
        "from tensorflow.keras.preprocessing.text import Tokenizer\n",
        "from tensorflow.keras.preprocessing import sequence\n",
        "from sklearn.preprocessing import LabelEncoder\n",
        "\n",
        "from sklearn import metrics\n",
        "from sklearn.metrics import f1_score, accuracy_score,confusion_matrix,classification_report\n",
        "import matplotlib.pyplot as plt\n",
        "import seaborn as sns\n",
        "# Time\n",
        "import time\n",
        "import datetime\n",
        "\n",
        "%matplotlib inline\n",
        "\n",
        "# fix random seed for reproducibility\n",
        "seed = 3541\n",
        "np.random.seed(seed)"
      ],
      "metadata": {
        "id": "Gbnh0egkUzRX",
        "execution": {
          "iopub.status.busy": "2024-06-12T12:25:51.44145Z",
          "iopub.execute_input": "2024-06-12T12:25:51.441755Z",
          "iopub.status.idle": "2024-06-12T12:25:51.464535Z",
          "shell.execute_reply.started": "2024-06-12T12:25:51.441723Z",
          "shell.execute_reply": "2024-06-12T12:25:51.463816Z"
        },
        "trusted": true
      },
      "execution_count": null,
      "outputs": []
    },
    {
      "cell_type": "markdown",
      "source": [
        "# 2. Functions"
      ],
      "metadata": {
        "id": "z8zjmjPCO_nq"
      }
    },
    {
      "cell_type": "code",
      "source": [
        "def date_time(x):\n",
        "    if x==1:\n",
        "        return 'Timestamp: {:%Y-%m-%d %H:%M:%S}'.format(datetime.datetime.now())\n",
        "    if x==2:\n",
        "        return 'Timestamp: {:%Y-%b-%d %H:%M:%S}'.format(datetime.datetime.now())\n",
        "    if x==3:\n",
        "        return 'Date now: %s' % datetime.datetime.now()\n",
        "    if x==4:\n",
        "        return 'Date today: %s' % datetime.date.today()"
      ],
      "metadata": {
        "execution": {
          "iopub.status.busy": "2024-06-12T12:25:51.465601Z",
          "iopub.execute_input": "2024-06-12T12:25:51.465812Z",
          "iopub.status.idle": "2024-06-12T12:25:51.472238Z",
          "shell.execute_reply.started": "2024-06-12T12:25:51.465787Z",
          "shell.execute_reply": "2024-06-12T12:25:51.471465Z"
        },
        "trusted": true,
        "id": "0-VDKwZ-O_nr"
      },
      "execution_count": null,
      "outputs": []
    },
    {
      "cell_type": "code",
      "source": [
        "def plot_performance(history=None, figure_directory=None, ylim_pad=[0, 0]):\n",
        "    xlabel = 'Epoch'\n",
        "    legends = ['Training', 'Validation']\n",
        "\n",
        "    plt.figure(figsize=(20, 5))\n",
        "\n",
        "    y1 = history.history['accuracy']\n",
        "    y2 = history.history['val_accuracy']\n",
        "\n",
        "    min_y = min(min(y1), min(y2))-ylim_pad[0]\n",
        "    max_y = max(max(y1), max(y2))+ylim_pad[0]\n",
        "\n",
        "\n",
        "    plt.subplot(121)\n",
        "\n",
        "    plt.plot(y1)\n",
        "    plt.plot(y2)\n",
        "\n",
        "    plt.title('Model Accuracy\\n'+date_time(1), fontsize=17)\n",
        "    plt.xlabel(xlabel, fontsize=15)\n",
        "    plt.ylabel('Accuracy', fontsize=15)\n",
        "    plt.ylim(min_y, max_y)\n",
        "    plt.legend(legends, loc='upper left')\n",
        "    plt.grid()\n",
        "\n",
        "    y1 = history.history['loss']\n",
        "    y2 = history.history['val_loss']\n",
        "\n",
        "    min_y = min(min(y1), min(y2))-ylim_pad[1]\n",
        "    max_y = max(max(y1), max(y2))+ylim_pad[1]\n",
        "\n",
        "\n",
        "    plt.subplot(122)\n",
        "\n",
        "    plt.plot(y1)\n",
        "    plt.plot(y2)\n",
        "\n",
        "    plt.title('Model Loss\\n'+date_time(1), fontsize=17)\n",
        "    plt.xlabel(xlabel, fontsize=15)\n",
        "    plt.ylabel('Loss', fontsize=15)\n",
        "    plt.ylim(min_y, max_y)\n",
        "    plt.legend(legends, loc='upper left')\n",
        "    plt.grid()\n",
        "    if figure_directory:\n",
        "        plt.savefig(figure_directory+\"/history\")\n",
        "\n",
        "    plt.show()"
      ],
      "metadata": {
        "execution": {
          "iopub.status.busy": "2024-06-12T12:25:51.474128Z",
          "iopub.execute_input": "2024-06-12T12:25:51.474377Z",
          "iopub.status.idle": "2024-06-12T12:25:51.487435Z",
          "shell.execute_reply.started": "2024-06-12T12:25:51.474348Z",
          "shell.execute_reply": "2024-06-12T12:25:51.486634Z"
        },
        "trusted": true,
        "id": "ec93oNU1O_nr"
      },
      "execution_count": null,
      "outputs": []
    },
    {
      "cell_type": "code",
      "source": [
        "import contractions\n",
        "from bs4 import BeautifulSoup\n",
        "import numpy as np\n",
        "import re\n",
        "import tqdm\n",
        "import unicodedata\n",
        "\n",
        "\n",
        "def strip_html_tags(text):\n",
        "  soup = BeautifulSoup(text, \"html.parser\")\n",
        "  [s.extract() for s in soup(['iframe', 'script'])]\n",
        "  stripped_text = soup.get_text()\n",
        "  stripped_text = re.sub(r'[\\r|\\n|\\r\\n]+', '\\n', stripped_text)\n",
        "  return stripped_text\n",
        "\n",
        "def remove_accented_chars(text):\n",
        "  text = unicodedata.normalize('NFKD', text).encode('ascii', 'ignore').decode('utf-8', 'ignore')\n",
        "  return text\n",
        "\n",
        "def pre_process_corpus(docs):\n",
        "  norm_docs = []\n",
        "  for doc in tqdm.tqdm(docs):\n",
        "    doc = strip_html_tags(doc)\n",
        "    doc = doc.translate(doc.maketrans(\"\\n\\t\\r\", \"   \"))\n",
        "    doc = doc.lower()\n",
        "    doc = remove_accented_chars(doc)\n",
        "    doc = contractions.fix(doc)\n",
        "    # lower case and remove special characters\\whitespaces\n",
        "    doc = re.sub(r'[^a-zA-Z0-9\\s]', '', doc, re.I|re.A)\n",
        "    doc = re.sub(' +', ' ', doc)\n",
        "    doc = doc.strip()\n",
        "    norm_docs.append(doc)\n",
        "\n",
        "  return norm_docs"
      ],
      "metadata": {
        "id": "tkFyu9u3tUOi",
        "execution": {
          "iopub.status.busy": "2024-06-12T12:25:51.488377Z",
          "iopub.execute_input": "2024-06-12T12:25:51.488584Z",
          "iopub.status.idle": "2024-06-12T12:25:51.5006Z",
          "shell.execute_reply.started": "2024-06-12T12:25:51.488558Z",
          "shell.execute_reply": "2024-06-12T12:25:51.49984Z"
        },
        "trusted": true
      },
      "execution_count": null,
      "outputs": []
    },
    {
      "cell_type": "markdown",
      "source": [
        "# 3. Loading Dataset (Amazon Reviews)"
      ],
      "metadata": {
        "id": "8_JEXODppxTc"
      }
    },
    {
      "cell_type": "code",
      "source": [
        "dataset_train = pd.read_csv('train.csv')\n",
        "dataset_test = pd.read_csv('test.csv')"
      ],
      "metadata": {
        "id": "U7pQ5WR1VYqm",
        "execution": {
          "iopub.status.busy": "2024-06-12T12:25:51.501648Z",
          "iopub.execute_input": "2024-06-12T12:25:51.501878Z",
          "iopub.status.idle": "2024-06-12T12:26:14.467963Z",
          "shell.execute_reply.started": "2024-06-12T12:25:51.501849Z",
          "shell.execute_reply": "2024-06-12T12:26:14.467133Z"
        },
        "trusted": true
      },
      "execution_count": null,
      "outputs": []
    },
    {
      "cell_type": "markdown",
      "source": [
        "# 4. Shuffeling and splitting the Data"
      ],
      "metadata": {
        "id": "CETaiGM2tO_d"
      }
    },
    {
      "cell_type": "code",
      "source": [
        "# build+shuffle train and test and validation datasets\n",
        "\n",
        "train = dataset_train.sample(frac=1)\n",
        "test = dataset_test.sample(frac=1)\n",
        "\n",
        "test = dataset_test.iloc[:50000,:]\n",
        "train = dataset_train.iloc[50000:,:]\n",
        "val = dataset_train.iloc[:50000,:]\n",
        "train = dataset_train.iloc[50000:,:]\n",
        "train = dataset_train.iloc[:100000,:]\n",
        "\n",
        "X_train = train['review_text'].values\n",
        "y_train = train['class_index'].values\n",
        "\n",
        "X_val = val['review_text'].values\n",
        "y_val = val['class_index'].values\n",
        "\n",
        "X_test = test['review_text'].values\n",
        "y_test = test['class_index'].values"
      ],
      "metadata": {
        "id": "XpwueLn6V-qF",
        "execution": {
          "iopub.status.busy": "2024-06-12T12:26:14.469373Z",
          "iopub.execute_input": "2024-06-12T12:26:14.469618Z",
          "iopub.status.idle": "2024-06-12T12:26:17.054513Z",
          "shell.execute_reply.started": "2024-06-12T12:26:14.469587Z",
          "shell.execute_reply": "2024-06-12T12:26:17.053654Z"
        },
        "trusted": true
      },
      "execution_count": null,
      "outputs": []
    },
    {
      "cell_type": "markdown",
      "source": [
        "# 5. Preprocessing and Tokenization"
      ],
      "metadata": {
        "id": "hca3kSgLO_nt"
      }
    },
    {
      "cell_type": "code",
      "source": [
        "%%time\n",
        "\n",
        "X_train = pre_process_corpus(X_train)\n",
        "X_val = pre_process_corpus(X_val)\n",
        "X_test = pre_process_corpus(X_test)"
      ],
      "metadata": {
        "id": "EgAqgSnHtap5",
        "execution": {
          "iopub.status.busy": "2024-06-12T12:26:17.055687Z",
          "iopub.execute_input": "2024-06-12T12:26:17.055912Z",
          "iopub.status.idle": "2024-06-12T12:27:01.756213Z",
          "shell.execute_reply.started": "2024-06-12T12:26:17.055883Z",
          "shell.execute_reply": "2024-06-12T12:27:01.755445Z"
        },
        "trusted": true
      },
      "execution_count": null,
      "outputs": []
    },
    {
      "cell_type": "code",
      "source": [
        "t = Tokenizer(oov_token='<UNK>')\n",
        "# fit the tokenizer on train documents\n",
        "t.fit_on_texts(X_train)\n",
        "t.word_index['<PAD>'] = 0"
      ],
      "metadata": {
        "execution": {
          "iopub.status.busy": "2024-06-12T12:27:01.757418Z",
          "iopub.execute_input": "2024-06-12T12:27:01.758057Z",
          "iopub.status.idle": "2024-06-12T12:27:08.813801Z",
          "shell.execute_reply.started": "2024-06-12T12:27:01.758012Z",
          "shell.execute_reply": "2024-06-12T12:27:08.813014Z"
        },
        "trusted": true,
        "id": "1csT6z03O_nu"
      },
      "execution_count": null,
      "outputs": []
    },
    {
      "cell_type": "code",
      "source": [
        "X_train = t.texts_to_sequences(X_train)\n",
        "X_test = t.texts_to_sequences(X_test)\n",
        "X_val = t.texts_to_sequences(X_val)"
      ],
      "metadata": {
        "execution": {
          "iopub.status.busy": "2024-06-12T12:27:08.814963Z",
          "iopub.execute_input": "2024-06-12T12:27:08.815233Z",
          "iopub.status.idle": "2024-06-12T12:27:19.854252Z",
          "shell.execute_reply.started": "2024-06-12T12:27:08.815195Z",
          "shell.execute_reply": "2024-06-12T12:27:19.853431Z"
        },
        "trusted": true,
        "id": "a_5qBBatO_nu"
      },
      "execution_count": null,
      "outputs": []
    },
    {
      "cell_type": "code",
      "source": [
        "print(\"Vocabulary size={}\".format(len(t.word_index)))\n",
        "print(\"Number of Documents={}\".format(t.document_count))"
      ],
      "metadata": {
        "id": "ldkDHyjZgaFV",
        "execution": {
          "iopub.status.busy": "2024-06-12T12:27:19.855476Z",
          "iopub.execute_input": "2024-06-12T12:27:19.855683Z",
          "iopub.status.idle": "2024-06-12T12:27:19.860636Z",
          "shell.execute_reply.started": "2024-06-12T12:27:19.855658Z",
          "shell.execute_reply": "2024-06-12T12:27:19.859799Z"
        },
        "trusted": true
      },
      "execution_count": null,
      "outputs": []
    },
    {
      "cell_type": "markdown",
      "source": [
        "# 6. Dataset Visualization"
      ],
      "metadata": {
        "id": "lWgoLnIHO_nu"
      }
    },
    {
      "cell_type": "code",
      "source": [
        "import matplotlib.pyplot as plt\n",
        "%matplotlib inline\n",
        "\n",
        "train_lens = [len(s) for s in X_train]\n",
        "test_lens = [len(s) for s in X_test]\n",
        "\n",
        "fig, ax = plt.subplots(1,2, figsize=(12, 6))\n",
        "h1 = ax[0].hist(train_lens)\n",
        "h2 = ax[1].hist(test_lens)"
      ],
      "metadata": {
        "id": "CQjiXA7Ntw13",
        "execution": {
          "iopub.status.busy": "2024-06-12T12:27:19.861656Z",
          "iopub.execute_input": "2024-06-12T12:27:19.861864Z",
          "iopub.status.idle": "2024-06-12T12:27:20.948024Z",
          "shell.execute_reply.started": "2024-06-12T12:27:19.861838Z",
          "shell.execute_reply": "2024-06-12T12:27:20.947335Z"
        },
        "trusted": true
      },
      "execution_count": null,
      "outputs": []
    },
    {
      "cell_type": "markdown",
      "source": [
        "# 7. Sequence Normalization and Encoding Labels"
      ],
      "metadata": {
        "id": "xfZwP6C8pxT8"
      }
    },
    {
      "cell_type": "code",
      "source": [
        "MAX_SEQUENCE_LENGTH = 220"
      ],
      "metadata": {
        "id": "BtuGJ0wXjQnC",
        "execution": {
          "iopub.status.busy": "2024-06-12T12:27:20.951596Z",
          "iopub.execute_input": "2024-06-12T12:27:20.951806Z",
          "iopub.status.idle": "2024-06-12T12:27:20.955454Z",
          "shell.execute_reply.started": "2024-06-12T12:27:20.95178Z",
          "shell.execute_reply": "2024-06-12T12:27:20.954662Z"
        },
        "trusted": true
      },
      "execution_count": null,
      "outputs": []
    },
    {
      "cell_type": "code",
      "source": [
        "# pad dataset to a maximum review length in words\n",
        "X_train = sequence.pad_sequences(X_train, maxlen=MAX_SEQUENCE_LENGTH)\n",
        "X_test = sequence.pad_sequences(X_test, maxlen=MAX_SEQUENCE_LENGTH)\n",
        "X_val = sequence.pad_sequences(X_val, maxlen=MAX_SEQUENCE_LENGTH)"
      ],
      "metadata": {
        "id": "wAnv99kzWA5k",
        "execution": {
          "iopub.status.busy": "2024-06-12T12:27:20.956428Z",
          "iopub.execute_input": "2024-06-12T12:27:20.956608Z",
          "iopub.status.idle": "2024-06-12T12:27:23.122649Z",
          "shell.execute_reply.started": "2024-06-12T12:27:20.956585Z",
          "shell.execute_reply": "2024-06-12T12:27:23.121988Z"
        },
        "trusted": true
      },
      "execution_count": null,
      "outputs": []
    },
    {
      "cell_type": "code",
      "source": [
        "le = LabelEncoder()\n",
        "num_classes=2 # positive -> 1, negative -> 0"
      ],
      "metadata": {
        "id": "rRMaWb1ldqyl",
        "execution": {
          "iopub.status.busy": "2024-06-12T12:27:23.124028Z",
          "iopub.execute_input": "2024-06-12T12:27:23.124259Z",
          "iopub.status.idle": "2024-06-12T12:27:23.128033Z",
          "shell.execute_reply.started": "2024-06-12T12:27:23.124231Z",
          "shell.execute_reply": "2024-06-12T12:27:23.127324Z"
        },
        "trusted": true
      },
      "execution_count": null,
      "outputs": []
    },
    {
      "cell_type": "code",
      "source": [
        "y_train = le.fit_transform(y_train)\n",
        "y_test = le.transform(y_test)\n",
        "y_val = le.transform(y_val)"
      ],
      "metadata": {
        "id": "tJjbtyDjfsd1",
        "execution": {
          "iopub.status.busy": "2024-06-12T12:27:23.129263Z",
          "iopub.execute_input": "2024-06-12T12:27:23.12997Z",
          "iopub.status.idle": "2024-06-12T12:27:23.14558Z",
          "shell.execute_reply.started": "2024-06-12T12:27:23.129907Z",
          "shell.execute_reply": "2024-06-12T12:27:23.144772Z"
        },
        "trusted": true
      },
      "execution_count": null,
      "outputs": []
    },
    {
      "cell_type": "code",
      "source": [
        "VOCAB_SIZE = len(t.word_index)"
      ],
      "metadata": {
        "id": "iaqFz7ZpdoLC",
        "execution": {
          "iopub.status.busy": "2024-06-12T12:27:23.146396Z",
          "iopub.execute_input": "2024-06-12T12:27:23.146579Z",
          "iopub.status.idle": "2024-06-12T12:27:23.150188Z",
          "shell.execute_reply.started": "2024-06-12T12:27:23.146556Z",
          "shell.execute_reply": "2024-06-12T12:27:23.149355Z"
        },
        "trusted": true
      },
      "execution_count": null,
      "outputs": []
    },
    {
      "cell_type": "markdown",
      "source": [
        "# 8. Model Preparation and Training"
      ],
      "metadata": {
        "id": "2rNIbH43O_nw"
      }
    },
    {
      "cell_type": "code",
      "source": [
        "EMBED_SIZE = 300\n",
        "#optimizer = tf.keras.optimizers.Adam(learning_rate=0.01)"
      ],
      "metadata": {
        "id": "LR3mdd8kjgW1",
        "execution": {
          "iopub.status.busy": "2024-06-12T12:27:23.151402Z",
          "iopub.execute_input": "2024-06-12T12:27:23.151895Z",
          "iopub.status.idle": "2024-06-12T12:27:23.159223Z",
          "shell.execute_reply.started": "2024-06-12T12:27:23.151857Z",
          "shell.execute_reply": "2024-06-12T12:27:23.158556Z"
        },
        "trusted": true
      },
      "execution_count": null,
      "outputs": []
    },
    {
      "cell_type": "code",
      "source": [
        "Adam = tf.keras.optimizers.Adam(learning_rate=0.01)\n",
        "loss = tf.keras.losses.BinaryCrossentropy(label_smoothing=0.1)"
      ],
      "metadata": {
        "execution": {
          "iopub.status.busy": "2024-06-12T12:27:23.160229Z",
          "iopub.execute_input": "2024-06-12T12:27:23.160493Z",
          "iopub.status.idle": "2024-06-12T12:27:23.169479Z",
          "shell.execute_reply.started": "2024-06-12T12:27:23.160458Z",
          "shell.execute_reply": "2024-06-12T12:27:23.168866Z"
        },
        "trusted": true,
        "id": "78RTbG3-O_nx"
      },
      "execution_count": null,
      "outputs": []
    },
    {
      "cell_type": "code",
      "source": [
        "callback = tf.keras.callbacks.EarlyStopping(monitor='accuracy', patience=10)"
      ],
      "metadata": {
        "execution": {
          "iopub.status.busy": "2024-06-12T12:27:23.170425Z",
          "iopub.execute_input": "2024-06-12T12:27:23.170672Z",
          "iopub.status.idle": "2024-06-12T12:27:23.179044Z",
          "shell.execute_reply.started": "2024-06-12T12:27:23.170641Z",
          "shell.execute_reply": "2024-06-12T12:27:23.17834Z"
        },
        "trusted": true,
        "id": "UN9GkjCpO_nx"
      },
      "execution_count": null,
      "outputs": []
    },
    {
      "cell_type": "code",
      "source": [
        "# create the model\n",
        "model = Sequential()\n",
        "model.add(Embedding(VOCAB_SIZE, EMBED_SIZE, input_length=MAX_SEQUENCE_LENGTH))\n",
        "model.add(Conv1D(filters=32, kernel_size=4, padding='same', activation='relu'))\n",
        "model.add(MaxPooling1D(pool_size=2))\n",
        "model.add(Dropout(rate=0.10))\n",
        "model.add(Conv1D(filters=64, kernel_size=4, padding='same', activation='relu'))\n",
        "model.add(MaxPooling1D(pool_size=2))\n",
        "model.add(Dropout(rate=0.10))\n",
        "model.add(Conv1D(filters=128, kernel_size=4, padding='same', activation='relu'))\n",
        "model.add(MaxPooling1D(pool_size=2))\n",
        "model.add(Dropout(rate=0.10))\n",
        "model.add(Flatten())\n",
        "model.add(Dense(256, activation='relu'))\n",
        "model.add(Dense(1, activation='sigmoid'))\n",
        "model.compile(loss=loss, optimizer=Adam, metrics=['accuracy'])\n",
        "model.summary()"
      ],
      "metadata": {
        "id": "AXhAERVeXhmZ",
        "execution": {
          "iopub.status.busy": "2024-06-12T12:27:23.180868Z",
          "iopub.execute_input": "2024-06-12T12:27:23.181092Z",
          "iopub.status.idle": "2024-06-12T12:27:23.281158Z",
          "shell.execute_reply.started": "2024-06-12T12:27:23.181056Z",
          "shell.execute_reply": "2024-06-12T12:27:23.280454Z"
        },
        "trusted": true
      },
      "execution_count": null,
      "outputs": []
    },
    {
      "cell_type": "code",
      "source": [
        "# Fit the model\n",
        "with tf.device('/GPU:0'):\n",
        "    history1 = model.fit(X_train, y_train, validation_data=(X_val,y_val),epochs=30, batch_size=128, verbose=1, callbacks=[callback])"
      ],
      "metadata": {
        "id": "0uc0jXszf5ob",
        "execution": {
          "iopub.status.busy": "2024-06-12T12:27:23.282326Z",
          "iopub.execute_input": "2024-06-12T12:27:23.282535Z",
          "iopub.status.idle": "2024-06-12T12:36:51.218088Z",
          "shell.execute_reply.started": "2024-06-12T12:27:23.282506Z",
          "shell.execute_reply": "2024-06-12T12:36:51.217457Z"
        },
        "trusted": true
      },
      "execution_count": null,
      "outputs": []
    },
    {
      "cell_type": "markdown",
      "source": [
        "# 9. Visualizing and Evaluating the Results"
      ],
      "metadata": {
        "id": "Co_SNAJ7O_ny"
      }
    },
    {
      "cell_type": "code",
      "source": [
        "plot_performance(history=history1)"
      ],
      "metadata": {
        "execution": {
          "iopub.status.busy": "2024-06-12T12:36:51.219547Z",
          "iopub.execute_input": "2024-06-12T12:36:51.219768Z",
          "iopub.status.idle": "2024-06-12T12:36:51.52411Z",
          "shell.execute_reply.started": "2024-06-12T12:36:51.21974Z",
          "shell.execute_reply": "2024-06-12T12:36:51.523363Z"
        },
        "trusted": true,
        "id": "uzw5QBJbO_ny"
      },
      "execution_count": null,
      "outputs": []
    },
    {
      "cell_type": "code",
      "source": [
        "# Final evaluation of the model\n",
        "scores = model.evaluate(X_test, y_test, verbose=1)\n",
        "print(\"Accuracy: %.2f%%\" % (scores[1]*100))"
      ],
      "metadata": {
        "id": "3Zik9CWQgNlK",
        "execution": {
          "iopub.status.busy": "2024-06-12T12:36:51.52526Z",
          "iopub.execute_input": "2024-06-12T12:36:51.525551Z",
          "iopub.status.idle": "2024-06-12T12:36:55.271922Z",
          "shell.execute_reply.started": "2024-06-12T12:36:51.5255Z",
          "shell.execute_reply": "2024-06-12T12:36:55.271172Z"
        },
        "trusted": true
      },
      "execution_count": null,
      "outputs": []
    }
  ]
}